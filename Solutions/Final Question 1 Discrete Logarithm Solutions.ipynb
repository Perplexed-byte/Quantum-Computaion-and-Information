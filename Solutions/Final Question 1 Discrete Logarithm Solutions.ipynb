{
 "cells": [
  {
   "cell_type": "markdown",
   "metadata": {
    "colab_type": "text",
    "id": "TGif5OgHa65Z"
   },
   "source": [
    "# The Discrete Logarithm problem\n",
    "\n",
    "The discrete logarithm problem is that if given $a$ and $b = a^s$, we have to determine $s$. Say we have the function $f(x_1,x_2) = a^{sx_1 + x_2}\\mod N$ and let say $r$ is the smallest positive integer $a^r\\mod N = 1$. This function's period is a tuple $(l,-ls)$. Say we have a unitary $U|{x_1}\\rangle|{x_2}\\rangle|{y}\\rangle = |{x_1}\\rangle|{x_2}\\rangle|{y \\oplus f(x_1,x_2)}\\rangle$ we can actually find its period in a similar manner to the period finding algorithm described previously.\n",
    "\n",
    "So we just start with the state $|{0}\\rangle|{0}\\rangle|{0}\\rangle$ over three registers where the first two have $t = O(\\text{ceil}(\\log r + \\log(1/\\epsilon)))$ qubits and the third one stores the function and then create the superposition states for the first two register. We then apply the unitary on the state and that can be decomposed in a similar way as shown in step 3 of the period finding algorithms procedure to \n",
    "$$\\dfrac{1}{2^t}\\sum_{x_1=0}^{2^t-1}\\sum_{x_2=0}^{2^t-1}|{x_1}\\rangle|{x_2}\\rangle|{f(x_1,x_2)}\\rangle$$ \n",
    "$$\\approx \\dfrac{1}{2^t\\sqrt{r}}\\sum_{l_2=0}^{r-1}\\sum_{x_1=0}^{2^t-1}\\sum_{x_2=0}^{2^t-1}e^{2\\pi\\iota(sl_2x_1 + l_2x_2)/r}|{x_1}\\rangle|{x_2}\\rangle|{\\hat{f}(sl_2,l_1)}\\rangle$$\n",
    "\\begin{equation}= \\dfrac{1}{2^t\\sqrt{r}}\\sum_{l_2=0}^{r-1}\\left[\\sum_{x_1=0}^{2^t-1}e^{2\\pi\\iota(sl_2x_1)/r}\\right]\\left[\\sum_{x_2=0}^{2^t-1}e^{2\\pi\\iota(l_2x_2)/r}\\right]|{x_1}\\rangle|{x_2}\\rangle|{\\hat{f}(sl_2,l_1)}\\rangle\\end{equation}\n",
    "\n",
    "We can see that applying the inverse Fourier transform and see that we will be left with a state to be this\n",
    "$$\\dfrac{1}{\\sqrt{r}}\\sum_{l_2 = 0}^{r - 1}|sl_2/r\\rangle|l_2/r\\rangle|{\\hat{f}(sl_2,l_2)}\\rangle$$\n",
    "Now this has some abuse of notation happening here. So first off, the actual state would not be $|sl_2/r\\rangle$ but rather would be $|sl_2/r*(2^t)\\mod(2^t)\\rangle$ as the state stored in that register so on measurement you would have to analyze the results keeping this in mind. Using the results keeping this in mind, you can analyze the fractions of their phases of the eigen values of the oracle (the logic of phase estimation) and that would be $(sl_2/r*(2^t)\\mod(2^t))/(2^t)$.\n",
    "\n",
    "Note that $|{\\hat{f}(l_1,l_2)}\\rangle = \\dfrac{1}{\\sqrt{r}}\\sum_{j=0}^{r-1}e^{-2\\pi\\iota{l_2j}/r}|{f(0,j)}\\rangle$ which is the Fourier transform of $f(x_1,x_2)$. Note that $l_1,l_2$ must satisfy $\\sum_{k=0}^{r-1}e^{2\\pi\\iota{k(l_1/s - l_2)}/r} = r$ else the amplitude of $f(l_1,l_2)$ would go to zero.\n",
    "\n",
    "## Corrections made:\n",
    "The oracle actually does the operation $O|x_1\\rangle|x_2\\rangle|y\\rangle = |x_1\\rangle|x_2\\rangle|y * f(x_1,x_2)\\rangle$ and $f(x_1,x_2) = a^{x_1}b^{x_2}\\mod{15}$ whereas in the uncorrected version it was written as $O|x_1\\rangle|x_2\\rangle|y\\rangle = |x_1\\rangle|x_2\\rangle|y * f(x_1,x_2)\\rangle$ and $f(x_1,x_2) = b^{x_1}a^{x_2}\\mod{15}$. This doesn't change any of the underlying concept since this just switches the position of the two registers otherwise it is the exact same. We are sorry for any inconveniences caused."
   ]
  },
  {
   "cell_type": "code",
   "execution_count": 1,
   "metadata": {
    "colab": {},
    "colab_type": "code",
    "id": "6CE9PWH0a65a"
   },
   "outputs": [
    {
     "name": "stdout",
     "output_type": "stream",
     "text": [
      "Requirement already satisfied: tabulate in f:\\anaconda\\lib\\site-packages (0.8.7)\n",
      "Collecting git+https://github.com/mnp-club/MnP_QC_Workshop.git\n",
      "  Cloning https://github.com/mnp-club/MnP_QC_Workshop.git to c:\\users\\mahade~1\\appdata\\local\\temp\\pip-req-build-h7sxdarp\n",
      "Building wheels for collected packages: mnp-qc-workshop-2020\n",
      "  Building wheel for mnp-qc-workshop-2020 (setup.py): started\n",
      "  Building wheel for mnp-qc-workshop-2020 (setup.py): finished with status 'done'\n",
      "  Created wheel for mnp-qc-workshop-2020: filename=mnp_qc_workshop_2020-0.1-cp37-none-any.whl size=6924 sha256=d4b7b3a5e96a698b99e8d206eaa27f743f15b30f67f6ce50164ee2d4977fbf15\n",
      "  Stored in directory: C:\\Users\\MAHADE~1\\AppData\\Local\\Temp\\pip-ephem-wheel-cache-3u6brvch\\wheels\\36\\2c\\cf\\a4cccefc10da21f2e37567d1a568955da0f91923b9263c9b4b\n",
      "Successfully built mnp-qc-workshop-2020\n",
      "Installing collected packages: mnp-qc-workshop-2020\n",
      "Successfully installed mnp-qc-workshop-2020-0.1\n",
      "Note: you may need to restart the kernel to use updated packages.\n"
     ]
    },
    {
     "name": "stderr",
     "output_type": "stream",
     "text": [
      "  Running command git clone -q https://github.com/mnp-club/MnP_QC_Workshop.git 'C:\\Users\\MAHADE~1\\AppData\\Local\\Temp\\pip-req-build-h7sxdarp'\n"
     ]
    }
   ],
   "source": [
    "!pip install tabulate\n",
    "%matplotlib inline\n",
    "# Importing standard Qiskit libraries and configuring account\n",
    "from qiskit import QuantumCircuit, execute, Aer, IBMQ\n",
    "from qiskit.compiler import transpile, assemble\n",
    "from qiskit.tools.jupyter import *\n",
    "from qiskit.visualization import *\n",
    "from tabulate import tabulate\n",
    "# Loading your IBM Q account(s)\n",
    "provider = IBMQ.load_account()\n",
    "#Get the library to check the answers\n",
    "%pip install -I git+https://github.com/mnp-club/MnP_QC_Workshop.git\n",
    "from mnp_qc_workshop_2020.discrete_logarithm import qft_dagger, oracle, check_answer"
   ]
  },
  {
   "cell_type": "markdown",
   "metadata": {
    "colab_type": "text",
    "id": "u1DMBsY2a65e"
   },
   "source": [
    "A thing we can note is that we do not neccessarily need to construct the oracle for $U|x_1\\rangle|x_2\\rangle|y\\rangle = |x_1\\rangle|x_2\\rangle|y \\oplus f(x_1,x_2)\\rangle$ we can also use the oracle for $U|x_1\\rangle|x_2\\rangle|y\\rangle = |x_1\\rangle|x_2\\rangle|y * f(x_1,x_2)\\rangle$ and just set $|y\\rangle = |1\\rangle$.\n",
    "\n",
    "## Your task\n",
    "\n",
    "So you are now given an oracle which does the following operation $O|x_1\\rangle|x_2\\rangle|y\\rangle = |x_1\\rangle|x_2\\rangle|y * f(x_1,x_2)\\rangle$ and $f(x_1,x_2) = a^{x_1}b^{x_2}\\mod{15}$ and here $|x_1\\rangle$ and $|x_2\\rangle$ are 3 qubit states and quite trivially the state of $|y * f(x_1,x_2)\\rangle$ will be stored using 4 qubits. Your task is to find the values of $a$ and $b$ using the discrete logarithm setup described above to find the minimum $s$ (which is an integer) for $a^s = b$ and you are free to perform additional analysis using the oracle to find out the values of $a$ and $b$. An obvious clue that you can see is that both $a$ and $b$ are coprime with 15. Also assume that $a,b < 15$\n",
    "\n",
    "For performing inverse fourier transform over some $n$ qubits from the circuit just use <code>QuantumCircuit.append(qft_dagger(n), qubits)</code> and for attaching the oracle use <code>QuantumCircuit.append(oracle(), qubits)</code>.\n",
    "\n",
    "**Note:** use the qiskit notation everywhere except for the third register so if you want to put the thrd register into the state $|1\\rangle$ you have to apply an $X$ gate at the q_9 which is the first qubit of the third register.\n",
    "\n",
    "There is a possibility that you would have reached the answer pretty easily but I would urge you to reach it with as much rigor as possible. This question is anyway in the bonus category so you need not think about the points you will receive."
   ]
  },
  {
   "cell_type": "code",
   "execution_count": 2,
   "metadata": {
    "colab": {},
    "colab_type": "code",
    "id": "pDomYpOFa65e"
   },
   "outputs": [
    {
     "data": {
      "text/html": [
       "<pre style=\"word-wrap: normal;white-space: pre;background: #fff0;line-height: 1.1;font-family: &quot;Courier New&quot;,Courier,monospace\">     ┌───┐┌─────────┐┌───────┐┌─┐               \n",
       "q_0: ┤ H ├┤0        ├┤0      ├┤M├───────────────\n",
       "     ├───┤│         ││       │└╥┘┌─┐            \n",
       "q_1: ┤ H ├┤1        ├┤1 QFT† ├─╫─┤M├────────────\n",
       "     ├───┤│         ││       │ ║ └╥┘┌─┐         \n",
       "q_2: ┤ H ├┤2        ├┤2      ├─╫──╫─┤M├─────────\n",
       "     ├───┤│         │├───────┤ ║  ║ └╥┘┌─┐      \n",
       "q_3: ┤ H ├┤3        ├┤0      ├─╫──╫──╫─┤M├──────\n",
       "     ├───┤│         ││       │ ║  ║  ║ └╥┘┌─┐   \n",
       "q_4: ┤ H ├┤4        ├┤1 QFT† ├─╫──╫──╫──╫─┤M├───\n",
       "     ├───┤│  Oracle ││       │ ║  ║  ║  ║ └╥┘┌─┐\n",
       "q_5: ┤ H ├┤5        ├┤2      ├─╫──╫──╫──╫──╫─┤M├\n",
       "     └───┘│         │└───────┘ ║  ║  ║  ║  ║ └╥┘\n",
       "q_6: ─────┤6        ├──────────╫──╫──╫──╫──╫──╫─\n",
       "          │         │          ║  ║  ║  ║  ║  ║ \n",
       "q_7: ─────┤7        ├──────────╫──╫──╫──╫──╫──╫─\n",
       "          │         │          ║  ║  ║  ║  ║  ║ \n",
       "q_8: ─────┤8        ├──────────╫──╫──╫──╫──╫──╫─\n",
       "     ┌───┐│         │          ║  ║  ║  ║  ║  ║ \n",
       "q_9: ┤ X ├┤9        ├──────────╫──╫──╫──╫──╫──╫─\n",
       "     └───┘└─────────┘          ║  ║  ║  ║  ║  ║ \n",
       "c_0: ══════════════════════════╩══╬══╬══╬══╬══╬═\n",
       "                                  ║  ║  ║  ║  ║ \n",
       "c_1: ═════════════════════════════╩══╬══╬══╬══╬═\n",
       "                                     ║  ║  ║  ║ \n",
       "c_2: ════════════════════════════════╩══╬══╬══╬═\n",
       "                                        ║  ║  ║ \n",
       "c_3: ═══════════════════════════════════╩══╬══╬═\n",
       "                                           ║  ║ \n",
       "c_4: ══════════════════════════════════════╩══╬═\n",
       "                                              ║ \n",
       "c_5: ═════════════════════════════════════════╩═\n",
       "                                                </pre>"
      ],
      "text/plain": [
       "     ┌───┐┌─────────┐┌───────┐┌─┐               \n",
       "q_0: ┤ H ├┤0        ├┤0      ├┤M├───────────────\n",
       "     ├───┤│         ││       │└╥┘┌─┐            \n",
       "q_1: ┤ H ├┤1        ├┤1 QFT† ├─╫─┤M├────────────\n",
       "     ├───┤│         ││       │ ║ └╥┘┌─┐         \n",
       "q_2: ┤ H ├┤2        ├┤2      ├─╫──╫─┤M├─────────\n",
       "     ├───┤│         │├───────┤ ║  ║ └╥┘┌─┐      \n",
       "q_3: ┤ H ├┤3        ├┤0      ├─╫──╫──╫─┤M├──────\n",
       "     ├───┤│         ││       │ ║  ║  ║ └╥┘┌─┐   \n",
       "q_4: ┤ H ├┤4        ├┤1 QFT† ├─╫──╫──╫──╫─┤M├───\n",
       "     ├───┤│  Oracle ││       │ ║  ║  ║  ║ └╥┘┌─┐\n",
       "q_5: ┤ H ├┤5        ├┤2      ├─╫──╫──╫──╫──╫─┤M├\n",
       "     └───┘│         │└───────┘ ║  ║  ║  ║  ║ └╥┘\n",
       "q_6: ─────┤6        ├──────────╫──╫──╫──╫──╫──╫─\n",
       "          │         │          ║  ║  ║  ║  ║  ║ \n",
       "q_7: ─────┤7        ├──────────╫──╫──╫──╫──╫──╫─\n",
       "          │         │          ║  ║  ║  ║  ║  ║ \n",
       "q_8: ─────┤8        ├──────────╫──╫──╫──╫──╫──╫─\n",
       "     ┌───┐│         │          ║  ║  ║  ║  ║  ║ \n",
       "q_9: ┤ X ├┤9        ├──────────╫──╫──╫──╫──╫──╫─\n",
       "     └───┘└─────────┘          ║  ║  ║  ║  ║  ║ \n",
       "c_0: ══════════════════════════╩══╬══╬══╬══╬══╬═\n",
       "                                  ║  ║  ║  ║  ║ \n",
       "c_1: ═════════════════════════════╩══╬══╬══╬══╬═\n",
       "                                     ║  ║  ║  ║ \n",
       "c_2: ════════════════════════════════╩══╬══╬══╬═\n",
       "                                        ║  ║  ║ \n",
       "c_3: ═══════════════════════════════════╩══╬══╬═\n",
       "                                           ║  ║ \n",
       "c_4: ══════════════════════════════════════╩══╬═\n",
       "                                              ║ \n",
       "c_5: ═════════════════════════════════════════╩═\n",
       "                                                "
      ]
     },
     "execution_count": 2,
     "metadata": {},
     "output_type": "execute_result"
    }
   ],
   "source": [
    "n_qubits = 3 #Number of qubits for the registers of |x1> and |x2>\n",
    "#For figuring out you would just need 2*n_qubits classical bits\n",
    "qc_disc_log = QuantumCircuit(4+n_qubits+n_qubits, n_qubits+n_qubits)\n",
    "\n",
    "for i in range(6):\n",
    "    qc_disc_log.h(i)\n",
    "\n",
    "qc_disc_log.x(9)#Flip the first bit in third register to bring in state |1> taking q6 as LSB\n",
    "\n",
    "qc_disc_log.append(oracle(),range(10))#Applying oracle\n",
    "\n",
    "qc_disc_log.append(qft_dagger(n_qubits), range(n_qubits))#Inverse QFT on register 1\n",
    "qc_disc_log.append(qft_dagger(n_qubits), range(n_qubits,2*n_qubits))#Inverse QFT on register 2\n",
    "\n",
    "qc_disc_log.measure(range(6),range(6))\n",
    "\n",
    "qc_disc_log.draw('text')"
   ]
  },
  {
   "cell_type": "markdown",
   "metadata": {
    "colab_type": "text",
    "id": "-9Pbav4xa65h"
   },
   "source": [
    "Now that you have made the required circuit (hopefully it is correct) let us go ahead and run it and check our results. If done correctly you can expect four values to only be reached."
   ]
  },
  {
   "cell_type": "code",
   "execution_count": 3,
   "metadata": {
    "colab": {},
    "colab_type": "code",
    "id": "W7KowxVoa65h"
   },
   "outputs": [
    {
     "data": {
      "image/png": "[encoded data removed]",
      "text/plain": [
       "<Figure size 504x360 with 1 Axes>"
      ]
     },
     "execution_count": 3,
     "metadata": {},
     "output_type": "execute_result"
    }
   ],
   "source": [
    "backend = Aer.get_backend('qasm_simulator')\n",
    "results = execute(qc_disc_log, backend, shots=8192).result()\n",
    "counts = results.get_counts()\n",
    "plot_histogram(counts)"
   ]
  },
  {
   "cell_type": "markdown",
   "metadata": {
    "colab_type": "text",
    "id": "_Js1caj-a65k"
   },
   "source": [
    "Let us now analyze these results. Do refer the explanation in the beginning to properly analyze the results and infer a value of $s$ from there."
   ]
  },
  {
   "cell_type": "code",
   "execution_count": 4,
   "metadata": {
    "colab": {},
    "colab_type": "code",
    "id": "lmV9ckEFa65k"
   },
   "outputs": [
    {
     "name": "stdout",
     "output_type": "stream",
     "text": [
      "Register Output    Phase\n",
      "-----------------  ----------\n",
      "010(bin) = 2(dec)  2/8 = 0.25\n",
      "100(bin) = 4(dec)  4/8 = 0.50\n",
      "110(bin) = 6(dec)  6/8 = 0.75\n",
      "000(bin) = 0(dec)  0/8 = 0.00\n"
     ]
    }
   ],
   "source": [
    "rows_x_1, eigenvalues_x_1 = [], []\n",
    "for output in counts:\n",
    "    decimal = int(output, 2)//8\n",
    "    eigenvalue = decimal/(2**3)\n",
    "    eigenvalues_x_1.append(eigenvalue)\n",
    "    rows_x_1.append([\"%s(bin) = %i(dec)\" % (output[0:3], decimal), \"%i/%i = %.2f\" % (decimal, 2**3, eigenvalue)])\n",
    "print(tabulate(rows_x_1, headers=[\"Register Output\", \"Phase\"]))"
   ]
  },
  {
   "cell_type": "code",
   "execution_count": 5,
   "metadata": {
    "colab": {},
    "colab_type": "code",
    "id": "xfo-sZHfa65n"
   },
   "outputs": [
    {
     "name": "stdout",
     "output_type": "stream",
     "text": [
      "Register Output    Phase\n",
      "-----------------  ----------\n",
      "110(bin) = 6(dec)  6/8 = 0.75\n",
      "100(bin) = 4(dec)  4/8 = 0.50\n",
      "010(bin) = 2(dec)  2/8 = 0.25\n",
      "000(bin) = 0(dec)  0/8 = 0.00\n"
     ]
    }
   ],
   "source": [
    "rows_x_2, eigenvalues_x_2 = [], []\n",
    "for output in counts:\n",
    "    decimal = int(output, 2) - ((int(output, 2)//8)*8)\n",
    "    eigenvalue = decimal/(2**3)\n",
    "    eigenvalues_x_2.append(eigenvalue)\n",
    "    rows_x_2.append([\"%s(bin) = %i(dec)\" % (output[3:6], decimal), \"%i/%i = %.2f\" % (decimal, 2**3, eigenvalue)])\n",
    "print(tabulate(rows_x_2, headers=[\"Register Output\", \"Phase\"]))"
   ]
  },
  {
   "cell_type": "markdown",
   "metadata": {
    "colab_type": "text",
    "id": "ceXYqpjQa65q"
   },
   "source": [
    "You have hopefully got the value of $s$ from these analysis. Go ahead and store it in the variable <code>s</code> in the next cell.\n",
    "\n",
    "Now we can infer one thing from our data. Given that we only have four points, we can see that our number has an order of four with respect to 15. Now we can actually make guesses from normal calculation itself but for the sake of having a little rigor we are going to try to reach the answer using the <code>make_guess_for_s</code> function which takes the eigen values and tries values to see what matches. A few things we can tell with certainty is that $s$ cannot be 1 so we will not bother trying that and another thing we can say is that if $s$ is equal to 4 then the order of $b$ with respect to 15 will be 1 so let us also exclude that for now and test the cell below to see if this works"
   ]
  },
  {
   "cell_type": "code",
   "execution_count": 6,
   "metadata": {},
   "outputs": [
    {
     "name": "stdout",
     "output_type": "stream",
     "text": [
      "  Phase in 1st register    Fraction    Phase in 2nd register    Fraction    Guess for s\n",
      "-----------------------  ----------  -----------------------  ----------  -------------\n",
      "                   0.25         1/4                     0.75         3/4              3\n",
      "                    0.5         1/2                      0.5         1/2              3\n",
      "                   0.75         3/4                     0.25         1/4              3\n",
      "                      0         0/1                        0         0/1            nan\n"
     ]
    }
   ],
   "source": [
    "def make_guess_for_s(e1,e2):\n",
    "    if e1==0 or e2==0:\n",
    "        return \"NaN\"\n",
    "    for a in range(2,4):\n",
    "        if ((e1*a) - int(e1*a)) == e2: #This is because there will be roll over of the values in the register\n",
    "            return a\n",
    "    return \"Nan\"\n",
    "\n",
    "\n",
    "\n",
    "\n",
    "rows = []\n",
    "for i in range(len(eigenvalues_x_1)):\n",
    "    eigenvalue_x_1 = eigenvalues_x_1[i]\n",
    "    numerator1, denominator1 = eigenvalue_x_1.as_integer_ratio()\n",
    "    eigenvalue_x_2 = eigenvalues_x_2[i]\n",
    "    numerator2, denominator2 = eigenvalue_x_2.as_integer_ratio()\n",
    "    s_val = make_guess_for_s(eigenvalue_x_1,eigenvalue_x_2)\n",
    "    rows.append([eigenvalue_x_1, \"%i/%i\" % (numerator1, denominator1), eigenvalue_x_2, \"%i/%i\" % (numerator2, denominator2), s_val])\n",
    "print(tabulate(rows, headers=[\"Phase in 1st register\",\"Fraction\", \"Phase in 2nd register\", \"Fraction\", \"Guess for s\"], colalign=('right','right','right','right','right')))"
   ]
  },
  {
   "cell_type": "markdown",
   "metadata": {},
   "source": [
    "And there you have it, we can see that the value of 3 fits all with the exception of 0 so we will continue with this thought now."
   ]
  },
  {
   "cell_type": "code",
   "execution_count": 7,
   "metadata": {
    "colab": {},
    "colab_type": "code",
    "id": "w30ayU2Ta65q"
   },
   "outputs": [],
   "source": [
    "#Store your value for s here\n",
    "s = 3"
   ]
  },
  {
   "cell_type": "markdown",
   "metadata": {
    "colab_type": "text",
    "id": "KKk8FQBPa65s"
   },
   "source": [
    "Now you can go ahead and analyze the oracle for getting an idea of the value of $a$ and $b$. Another clue for figuring that out is that in the results for discrete logarithm, you should only get four possibilities and this should tell you the order of $a$ with respect to $15$.\n",
    "\n",
    "Now let's take a look at all numbers from 2 to 14 which have order 4 with respect to 15"
   ]
  },
  {
   "cell_type": "code",
   "execution_count": 8,
   "metadata": {},
   "outputs": [
    {
     "name": "stdout",
     "output_type": "stream",
     "text": [
      "2\n",
      "7\n",
      "8\n",
      "13\n"
     ]
    }
   ],
   "source": [
    "from math import gcd\n",
    "for i in range(2,15):\n",
    "    j = 1\n",
    "    if(gcd(i,15)!=1):\n",
    "        continue\n",
    "    while(True):\n",
    "        if (i**j)%15 == 1:\n",
    "            break\n",
    "        j = j+1\n",
    "    if(j == 4):\n",
    "        print(i)"
   ]
  },
  {
   "cell_type": "markdown",
   "metadata": {},
   "source": [
    "From here it is clear that these are the values that $a$ can take or we can multiply each one by their power of $4n$ and even that could be possible. We will ascertain their values using measurement from the oracle."
   ]
  },
  {
   "cell_type": "code",
   "execution_count": 9,
   "metadata": {},
   "outputs": [
    {
     "data": {
      "text/html": [
       "<pre style=\"word-wrap: normal;white-space: pre;background: #fff0;line-height: 1.1;font-family: &quot;Courier New&quot;,Courier,monospace\">     ┌───┐┌─────────┐            \n",
       "q_0: ┤ X ├┤0        ├────────────\n",
       "     └───┘│         │            \n",
       "q_1: ─────┤1        ├────────────\n",
       "          │         │            \n",
       "q_2: ─────┤2        ├────────────\n",
       "          │         │            \n",
       "q_3: ─────┤3        ├────────────\n",
       "          │         │            \n",
       "q_4: ─────┤4        ├────────────\n",
       "          │  Oracle │            \n",
       "q_5: ─────┤5        ├────────────\n",
       "          │         │┌─┐         \n",
       "q_6: ─────┤6        ├┤M├─────────\n",
       "          │         │└╥┘┌─┐      \n",
       "q_7: ─────┤7        ├─╫─┤M├──────\n",
       "          │         │ ║ └╥┘┌─┐   \n",
       "q_8: ─────┤8        ├─╫──╫─┤M├───\n",
       "     ┌───┐│         │ ║  ║ └╥┘┌─┐\n",
       "q_9: ┤ X ├┤9        ├─╫──╫──╫─┤M├\n",
       "     └───┘└─────────┘ ║  ║  ║ └╥┘\n",
       "c_0: ═════════════════╩══╬══╬══╬═\n",
       "                         ║  ║  ║ \n",
       "c_1: ════════════════════╩══╬══╬═\n",
       "                            ║  ║ \n",
       "c_2: ═══════════════════════╩══╬═\n",
       "                               ║ \n",
       "c_3: ══════════════════════════╩═\n",
       "                                 </pre>"
      ],
      "text/plain": [
       "     ┌───┐┌─────────┐            \n",
       "q_0: ┤ X ├┤0        ├────────────\n",
       "     └───┘│         │            \n",
       "q_1: ─────┤1        ├────────────\n",
       "          │         │            \n",
       "q_2: ─────┤2        ├────────────\n",
       "          │         │            \n",
       "q_3: ─────┤3        ├────────────\n",
       "          │         │            \n",
       "q_4: ─────┤4        ├────────────\n",
       "          │  Oracle │            \n",
       "q_5: ─────┤5        ├────────────\n",
       "          │         │┌─┐         \n",
       "q_6: ─────┤6        ├┤M├─────────\n",
       "          │         │└╥┘┌─┐      \n",
       "q_7: ─────┤7        ├─╫─┤M├──────\n",
       "          │         │ ║ └╥┘┌─┐   \n",
       "q_8: ─────┤8        ├─╫──╫─┤M├───\n",
       "     ┌───┐│         │ ║  ║ └╥┘┌─┐\n",
       "q_9: ┤ X ├┤9        ├─╫──╫──╫─┤M├\n",
       "     └───┘└─────────┘ ║  ║  ║ └╥┘\n",
       "c_0: ═════════════════╩══╬══╬══╬═\n",
       "                         ║  ║  ║ \n",
       "c_1: ════════════════════╩══╬══╬═\n",
       "                            ║  ║ \n",
       "c_2: ═══════════════════════╩══╬═\n",
       "                               ║ \n",
       "c_3: ══════════════════════════╩═\n",
       "                                 "
      ]
     },
     "execution_count": 9,
     "metadata": {},
     "output_type": "execute_result"
    }
   ],
   "source": [
    "qc_an = QuantumCircuit(10,4)\n",
    "\n",
    "qc_an.x(0)#This way the oracle multiplies by a mod 15\n",
    "qc_an.x(9)#Flip the first bit in third register to bring in state |1>\n",
    "\n",
    "qc_an.append(oracle(),range(10))#Applying oracle\n",
    "\n",
    "qc_an.measure(range(6,10),range(4))\n",
    "\n",
    "qc_an.draw('text')\n"
   ]
  },
  {
   "cell_type": "code",
   "execution_count": 10,
   "metadata": {},
   "outputs": [
    {
     "data": {
      "image/png": "[encoded data removed]",
      "text/plain": [
       "<Figure size 504x360 with 1 Axes>"
      ]
     },
     "execution_count": 10,
     "metadata": {},
     "output_type": "execute_result"
    }
   ],
   "source": [
    "backend = Aer.get_backend('qasm_simulator')\n",
    "results = execute(qc_an, backend, shots=1024).result()\n",
    "counts = results.get_counts()\n",
    "plot_histogram(counts)"
   ]
  },
  {
   "cell_type": "markdown",
   "metadata": {},
   "source": [
    "Now we can see that $a = 2^{4n+1}$ because we will reverse this result and note that and so $b = 2^{12n+3}$ we will now see what the value of $b$ is"
   ]
  },
  {
   "cell_type": "code",
   "execution_count": 11,
   "metadata": {
    "colab": {},
    "colab_type": "code",
    "id": "8WqxaxZwa65t"
   },
   "outputs": [
    {
     "data": {
      "text/html": [
       "<pre style=\"word-wrap: normal;white-space: pre;background: #fff0;line-height: 1.1;font-family: &quot;Courier New&quot;,Courier,monospace\">          ┌─────────┐            \n",
       "q_0: ─────┤0        ├────────────\n",
       "          │         │            \n",
       "q_1: ─────┤1        ├────────────\n",
       "          │         │            \n",
       "q_2: ─────┤2        ├────────────\n",
       "     ┌───┐│         │            \n",
       "q_3: ┤ X ├┤3        ├────────────\n",
       "     └───┘│         │            \n",
       "q_4: ─────┤4        ├────────────\n",
       "          │  Oracle │            \n",
       "q_5: ─────┤5        ├────────────\n",
       "          │         │┌─┐         \n",
       "q_6: ─────┤6        ├┤M├─────────\n",
       "          │         │└╥┘┌─┐      \n",
       "q_7: ─────┤7        ├─╫─┤M├──────\n",
       "          │         │ ║ └╥┘┌─┐   \n",
       "q_8: ─────┤8        ├─╫──╫─┤M├───\n",
       "     ┌───┐│         │ ║  ║ └╥┘┌─┐\n",
       "q_9: ┤ X ├┤9        ├─╫──╫──╫─┤M├\n",
       "     └───┘└─────────┘ ║  ║  ║ └╥┘\n",
       "c_0: ═════════════════╩══╬══╬══╬═\n",
       "                         ║  ║  ║ \n",
       "c_1: ════════════════════╩══╬══╬═\n",
       "                            ║  ║ \n",
       "c_2: ═══════════════════════╩══╬═\n",
       "                               ║ \n",
       "c_3: ══════════════════════════╩═\n",
       "                                 </pre>"
      ],
      "text/plain": [
       "          ┌─────────┐            \n",
       "q_0: ─────┤0        ├────────────\n",
       "          │         │            \n",
       "q_1: ─────┤1        ├────────────\n",
       "          │         │            \n",
       "q_2: ─────┤2        ├────────────\n",
       "     ┌───┐│         │            \n",
       "q_3: ┤ X ├┤3        ├────────────\n",
       "     └───┘│         │            \n",
       "q_4: ─────┤4        ├────────────\n",
       "          │  Oracle │            \n",
       "q_5: ─────┤5        ├────────────\n",
       "          │         │┌─┐         \n",
       "q_6: ─────┤6        ├┤M├─────────\n",
       "          │         │└╥┘┌─┐      \n",
       "q_7: ─────┤7        ├─╫─┤M├──────\n",
       "          │         │ ║ └╥┘┌─┐   \n",
       "q_8: ─────┤8        ├─╫──╫─┤M├───\n",
       "     ┌───┐│         │ ║  ║ └╥┘┌─┐\n",
       "q_9: ┤ X ├┤9        ├─╫──╫──╫─┤M├\n",
       "     └───┘└─────────┘ ║  ║  ║ └╥┘\n",
       "c_0: ═════════════════╩══╬══╬══╬═\n",
       "                         ║  ║  ║ \n",
       "c_1: ════════════════════╩══╬══╬═\n",
       "                            ║  ║ \n",
       "c_2: ═══════════════════════╩══╬═\n",
       "                               ║ \n",
       "c_3: ══════════════════════════╩═\n",
       "                                 "
      ]
     },
     "execution_count": 11,
     "metadata": {},
     "output_type": "execute_result"
    }
   ],
   "source": [
    "qc_bn = QuantumCircuit(10,4)\n",
    "\n",
    "qc_bn.x(3)#This way the oracle multiplies by b mod 15\n",
    "qc_bn.x(9)#Flip the first bit in third register to bring in state |1>\n",
    "\n",
    "qc_bn.append(oracle(),range(10))#Applying oracle\n",
    "\n",
    "qc_bn.measure(range(6,10),range(4))\n",
    "\n",
    "qc_bn.draw('text')\n"
   ]
  },
  {
   "cell_type": "code",
   "execution_count": 12,
   "metadata": {},
   "outputs": [
    {
     "data": {
      "image/png": "[encoded data removed]",
      "text/plain": [
       "<Figure size 504x360 with 1 Axes>"
      ]
     },
     "execution_count": 12,
     "metadata": {},
     "output_type": "execute_result"
    }
   ],
   "source": [
    "backend = Aer.get_backend('qasm_simulator')\n",
    "results = execute(qc_bn, backend, shots=1024).result()\n",
    "counts = results.get_counts()\n",
    "plot_histogram(counts)"
   ]
  },
  {
   "cell_type": "markdown",
   "metadata": {},
   "source": [
    "So clearly $b = 2^{12n+3}$ since we will again reverse this and note it but now since its given that $a,b < 15$ the only conclusive answer is $a = 2$ and $b = 8$"
   ]
  },
  {
   "cell_type": "markdown",
   "metadata": {
    "colab_type": "text",
    "id": "R82CKHHza65v"
   },
   "source": [
    "Now if you have figured out the values of $a$ and $b$ you can go ahead and store them in the variables <code>a, b</code> in the next cell"
   ]
  },
  {
   "cell_type": "code",
   "execution_count": 13,
   "metadata": {
    "colab": {},
    "colab_type": "code",
    "id": "0Rnrf4w-a65w"
   },
   "outputs": [],
   "source": [
    "#Store values of a and b here\n",
    "a, b = 2,8"
   ]
  },
  {
   "cell_type": "markdown",
   "metadata": {
    "colab_type": "text",
    "id": "6xevyTDca65y"
   },
   "source": [
    "You can now get your answers checked by running the below cell"
   ]
  },
  {
   "cell_type": "code",
   "execution_count": 14,
   "metadata": {
    "colab": {},
    "colab_type": "code",
    "id": "oLOG4Lx_a65y"
   },
   "outputs": [
    {
     "name": "stdout",
     "output_type": "stream",
     "text": [
      "All your values are correct :) You may go ahead and submit the notebook\n"
     ]
    }
   ],
   "source": [
    "check_answer(s,a,b)"
   ]
  }
 ],
 "metadata": {
  "colab": {
   "collapsed_sections": [],
   "name": "Final Question 1: Discrete Logarithm.ipynb",
   "provenance": []
  },
  "kernelspec": {
   "display_name": "Python 3",
   "language": "python",
   "name": "python3"
  },
  "language_info": {
   "codemirror_mode": {
    "name": "ipython",
    "version": 3
   },
   "file_extension": ".py",
   "mimetype": "text/x-python",
   "name": "python",
   "nbconvert_exporter": "python",
   "pygments_lexer": "ipython3",
   "version": "3.7.4"
  }
 },
 "nbformat": 4,
 "nbformat_minor": 1
}
